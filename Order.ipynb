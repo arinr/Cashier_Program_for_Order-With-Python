{
 "cells": [
  {
   "cell_type": "code",
   "execution_count": 1,
   "metadata": {},
   "outputs": [],
   "source": [
    "#---Mengimport file food.py dan drink.py sebagai module---#\n",
    "from food import Food\n",
    "from drink import Drink\n",
    "\n",
    "#---Membuat variable instance dengan menu makanan---#\n",
    "food1 = Food('Nasi Goreng', 15000, 267)\n",
    "food2 = Food('Mie Goreng', 10000, 350)\n",
    "food3 = Food('CapCay', 15000, 110)\n",
    "food4 = Food('Udang Saus Tiram', 20000, 240)\n",
    "food5 = Food('Seblak', 8000, 315)\n",
    "foods = [food1, food2, food3, food4, food5]\n",
    "\n",
    "#---Membuat variable instance dengan menu minuman---#\n",
    "drink1 = Drink('Kopi', 5000, 180)\n",
    "drink2 = Drink('Jus Jeruk', 6000, 200)\n",
    "drink3 = Drink('Yoghurt', 8000, 200)\n",
    "drink4 = Drink('Es Teh Manis', 3000, 350)\n",
    "drink5 = Drink('Air Putih', 2000, 200)\n",
    "drinks = [drink1, drink2, drink3, drink4, drink5]"
   ]
  },
  {
   "cell_type": "code",
   "execution_count": 2,
   "metadata": {},
   "outputs": [
    {
     "name": "stdout",
     "output_type": "stream",
     "text": [
      "Selamat datang di Arins Resto. Memesan atas nama siapa? Arini\n"
     ]
    }
   ],
   "source": [
    "#---Menanyakan nama pembeli---#\n",
    "nama_pembeli=input(\"Selamat datang di Arins Resto. Memesan atas nama siapa? \")"
   ]
  },
  {
   "cell_type": "code",
   "execution_count": 3,
   "metadata": {},
   "outputs": [
    {
     "name": "stdout",
     "output_type": "stream",
     "text": [
      "Daftar Menu Arins Resto \n",
      "Makanan\n",
      "0. Nasi Goreng: Rp 15000 (267 kal)\n",
      "1. Mie Goreng: Rp 10000 (350 kal)\n",
      "2. CapCay: Rp 15000 (110 kal)\n",
      "3. Udang Saus Tiram: Rp 20000 (240 kal)\n",
      "4. Seblak: Rp 8000 (315 kal)\n",
      "Minuman\n",
      "0. Kopi: Rp 5000 (180 mL)\n",
      "1. Jus Jeruk: Rp 6000 (200 mL)\n",
      "2. Yoghurt: Rp 8000 (200 mL)\n",
      "3. Es Teh Manis: Rp 3000 (350 mL)\n",
      "4. Air Putih: Rp 2000 (200 mL)\n"
     ]
    }
   ],
   "source": [
    "#---Menampilkan daftar menu makanan dan minuman---#\n",
    "print('Daftar Menu Arins Resto ')\n",
    "print('Makanan')\n",
    "index = 0\n",
    "for food in foods:\n",
    "    print(str(index) + '. ' + food.info())\n",
    "    index += 1\n",
    "\n",
    "print('Minuman')\n",
    "index = 0\n",
    "for drink in drinks:\n",
    "    print(str(index) + '. ' + drink.info())\n",
    "    index += 1"
   ]
  },
  {
   "cell_type": "code",
   "execution_count": 4,
   "metadata": {},
   "outputs": [
    {
     "name": "stdout",
     "output_type": "stream",
     "text": [
      "Masukkan nomor makanan yang ingin Anda pesan: 0\n",
      "Ingin pesan berapa?1\n",
      "Masukkan nomor minuman ingin Anda pesan: 0\n",
      "Ingin pesan berapa?1\n"
     ]
    }
   ],
   "source": [
    "#---Memesan menu---#\n",
    "food_order = int(input('Masukkan nomor makanan yang ingin Anda pesan: '))\n",
    "selected_food = foods[food_order]\n",
    "count_food = int(input(\"Ingin pesan berapa?\"))\n",
    "\n",
    "drink_order = int(input('Masukkan nomor minuman ingin Anda pesan: '))\n",
    "selected_drink = drinks[drink_order]\n",
    "count_drink = int(input(\"Ingin pesan berapa?\"))"
   ]
  },
  {
   "cell_type": "code",
   "execution_count": 5,
   "metadata": {},
   "outputs": [],
   "source": [
    "#---Panggil method get_total_price untuk food dan drink---#\n",
    "total_price_foods = selected_food.get_total_price_food(count_food)\n",
    "total_price_drinks = selected_drink.get_total_price_drink(count_drink)"
   ]
  },
  {
   "cell_type": "code",
   "execution_count": 6,
   "metadata": {},
   "outputs": [
    {
     "name": "stdout",
     "output_type": "stream",
     "text": [
      "Apakah ada tambahan pesanan lagi? (makanan/minuman/tidak)makanan\n",
      "Masukkan nomor makanan yang ingin Anda pesan: 1\n",
      "Ingin pesan berapa?1\n",
      "Apakah ada tampahan pesanan lagi? (makanan/minuman/tidak)minuman\n",
      "Masukkan nomor minuman ingin Anda pesan: 1\n",
      "Ingin pesan berapa?2\n",
      "Apakah ada tampahan pesanan lagi? (makanan/minuman/tidak)tidak\n"
     ]
    }
   ],
   "source": [
    "#---Masukkan nama pesanan, quantity, harga satuan, dan total harga ke dalam list---#\n",
    "name_order=[selected_food.name,selected_drink.name]\n",
    "quantity=[count_food,count_drink]\n",
    "item_price=[selected_food.price,selected_drink.price]\n",
    "totals_price= [total_price_foods,total_price_drinks]\n",
    "\n",
    "#---Jika ada tambahan pesanan---#\n",
    "again=input(\"Apakah ada tambahan pesanan lagi? (makanan/minuman/tidak)\")\n",
    "again=again.lower()\n",
    "while again != 'tidak' :\n",
    "    if again == 'makanan':\n",
    "        #---Memesan makanan kembali---#\n",
    "        food_order = int(input('Masukkan nomor makanan yang ingin Anda pesan: '))\n",
    "        selected_food = foods[food_order]\n",
    "        count_food = int(input(\"Ingin pesan berapa?\"))\n",
    "        total_price_foods = selected_food.get_total_price_food(count_food)\n",
    "        #---Memasukkan data pada list makanan yang sudah ada---#\n",
    "        name_order.append(selected_food.name)\n",
    "        quantity.append(count_food)\n",
    "        item_price.append(selected_food.price)\n",
    "        totals_price.append(total_price_foods)\n",
    "        \n",
    "    else :\n",
    "        #---Memesan minuman kembali---#\n",
    "        drink_order = int(input('Masukkan nomor minuman ingin Anda pesan: '))\n",
    "        selected_drink = drinks[drink_order]\n",
    "        count_drink = int(input(\"Ingin pesan berapa?\"))\n",
    "        total_price_drinks = selected_drink.get_total_price_drink(count_drink)\n",
    "        #---Memasukkan data pada list minuman yang sudah ada---#\n",
    "        name_order.append(selected_drink.name)\n",
    "        quantity.append(count_drink)\n",
    "        item_price.append(selected_drink.price)\n",
    "        totals_price.append(total_price_drinks)\n",
    "    \n",
    "    #---Pertanyaaan ulangan---#\n",
    "    again=input(\"Apakah ada tampahan pesanan lagi? (makanan/minuman/tidak)\")\n",
    "    again=again.lower()"
   ]
  },
  {
   "cell_type": "code",
   "execution_count": 7,
   "metadata": {},
   "outputs": [],
   "source": [
    "#---Masukkan nama pesanan, quantity, harga satuan, dan total harga ke dalam data frame---#\n",
    "import pandas as pd \n",
    "df=pd.DataFrame()\n",
    "df['Pesanan']=name_order\n",
    "df['Total QTY']=quantity\n",
    "df['Harga Satuan']=item_price\n",
    "df['Total Harga']=totals_price"
   ]
  },
  {
   "cell_type": "code",
   "execution_count": 8,
   "metadata": {},
   "outputs": [
    {
     "name": "stdout",
     "output_type": "stream",
     "text": [
      "------------------------------------------\n",
      "TERIMA KASIH TELAH MENGUNJUNGI ARINS RESTO\n",
      "------------------------------------------\n",
      " \n",
      "Rincian pesanan Anda:\n",
      "       Pesanan  Total QTY  Harga Satuan  Total Harga\n",
      "0  Nasi Goreng          1         15000        15000\n",
      "1         Kopi          1          5000         5000\n",
      "2   Mie Goreng          1         10000        10000\n",
      "3    Jus Jeruk          2          6000        12000\n",
      " \n",
      "------------------------------------------\n",
      "Total Bayar       Rp 42000\n",
      "------------------------------------------\n",
      " \n",
      "Terima kasih Arini!\n",
      "Harap tunggu. Pesanan Anda sedang kami siapkan.\n"
     ]
    }
   ],
   "source": [
    "#---Membuat struk/tanda bukti pembayaran---#\n",
    "print(\"------------------------------------------\")\n",
    "print(\"TERIMA KASIH TELAH MENGUNJUNGI ARINS RESTO\")\n",
    "print(\"------------------------------------------\")\n",
    "print(\" \")\n",
    "print(\"Rincian pesanan Anda:\")\n",
    "print(df)\n",
    "print(\" \")\n",
    "\n",
    "#---Jumlah yang harus dibayar---#\n",
    "print(\"------------------------------------------\")\n",
    "print(\"Total Bayar       Rp \"+str(sum(df['Total Harga'])))\n",
    "print(\"------------------------------------------\")\n",
    "print(\" \")\n",
    "print(\"Terima kasih \"+nama_pembeli+\"!\")\n",
    "print(\"Harap tunggu. Pesanan Anda sedang kami siapkan.\")"
   ]
  },
  {
   "cell_type": "code",
   "execution_count": null,
   "metadata": {},
   "outputs": [],
   "source": []
  }
 ],
 "metadata": {
  "kernelspec": {
   "display_name": "Python 3",
   "language": "python",
   "name": "python3"
  },
  "language_info": {
   "codemirror_mode": {
    "name": "ipython",
    "version": 3
   },
   "file_extension": ".py",
   "mimetype": "text/x-python",
   "name": "python",
   "nbconvert_exporter": "python",
   "pygments_lexer": "ipython3",
   "version": "3.7.4"
  }
 },
 "nbformat": 4,
 "nbformat_minor": 2
}
